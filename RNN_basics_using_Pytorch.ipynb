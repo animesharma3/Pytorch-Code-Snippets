{
  "nbformat": 4,
  "nbformat_minor": 0,
  "metadata": {
    "colab": {
      "name": "RNN basics using Pytorch.ipynb",
      "provenance": [],
      "authorship_tag": "ABX9TyP3qBSO+dCIAkXW7T3YYC75",
      "include_colab_link": true
    },
    "kernelspec": {
      "name": "python3",
      "display_name": "Python 3"
    }
  },
  "cells": [
    {
      "cell_type": "markdown",
      "metadata": {
        "id": "view-in-github",
        "colab_type": "text"
      },
      "source": [
        "<a href=\"https://colab.research.google.com/github/animesharma3/Pytorch-Code-Snippets/blob/main/RNN_basics_using_Pytorch.ipynb\" target=\"_parent\"><img src=\"https://colab.research.google.com/assets/colab-badge.svg\" alt=\"Open In Colab\"/></a>"
      ]
    },
    {
      "cell_type": "code",
      "metadata": {
        "id": "4nIWDF0J9kYp"
      },
      "source": [
        "import torch\r\n",
        "import torch.nn as nn\r\n",
        "import torch.optim as optim\r\n",
        "from torch.utils.data import Dataset, DataLoader"
      ],
      "execution_count": 13,
      "outputs": []
    },
    {
      "cell_type": "code",
      "metadata": {
        "colab": {
          "base_uri": "https://localhost:8080/"
        },
        "id": "0A8hG7s2GnaW",
        "outputId": "a5262b1d-4f3f-4d2f-8259-d8d1b4f35f69"
      },
      "source": [
        "data = torch.tensor([i for i in range(1,21)], dtype=torch.float)\r\n",
        "data"
      ],
      "execution_count": 22,
      "outputs": [
        {
          "output_type": "execute_result",
          "data": {
            "text/plain": [
              "tensor([ 1.,  2.,  3.,  4.,  5.,  6.,  7.,  8.,  9., 10., 11., 12., 13., 14.,\n",
              "        15., 16., 17., 18., 19., 20.])"
            ]
          },
          "metadata": {
            "tags": []
          },
          "execution_count": 22
        }
      ]
    },
    {
      "cell_type": "code",
      "metadata": {
        "colab": {
          "base_uri": "https://localhost:8080/"
        },
        "id": "Zqi7m-2AGsi1",
        "outputId": "9476e9bc-4bd9-4c41-a6ca-56bf99a35cb6"
      },
      "source": [
        "data.shape"
      ],
      "execution_count": 23,
      "outputs": [
        {
          "output_type": "execute_result",
          "data": {
            "text/plain": [
              "torch.Size([20])"
            ]
          },
          "metadata": {
            "tags": []
          },
          "execution_count": 23
        }
      ]
    },
    {
      "cell_type": "code",
      "metadata": {
        "id": "lEer-8sTG26x"
      },
      "source": [
        "INPUT_SIZE = 1 # No. of features used in input\r\n",
        "SEQ_LENGTH = 5 # No. of prev. time step taken into account\r\n",
        "HIDDEN_SIZE = 2 # No. of features in last hidden state\r\n",
        "NUM_LAYERS = 3 # No. of stacked RNN\r\n",
        "BATCH_SIZE = 4"
      ],
      "execution_count": 29,
      "outputs": []
    },
    {
      "cell_type": "code",
      "metadata": {
        "id": "yyH1MO_2HZzc"
      },
      "source": [
        "rnn = nn.RNN(input_size=INPUT_SIZE, hidden_size=HIDDEN_SIZE, num_layers=NUM_LAYERS, batch_first=True, bidirectional=True)\r\n",
        "inputs = data.view(BATCH_SIZE, SEQ_LENGTH, INPUT_SIZE) # (4,5,1)\r\n",
        "out, h_n = rnn(inputs)"
      ],
      "execution_count": 32,
      "outputs": []
    },
    {
      "cell_type": "code",
      "metadata": {
        "colab": {
          "base_uri": "https://localhost:8080/"
        },
        "id": "P_GEtjunIIYD",
        "outputId": "47418d0f-6dca-4abc-8c2e-1ece9a2fb5d5"
      },
      "source": [
        "inputs.shape, out.shape, h_n.shape"
      ],
      "execution_count": 33,
      "outputs": [
        {
          "output_type": "execute_result",
          "data": {
            "text/plain": [
              "(torch.Size([4, 5, 1]), torch.Size([4, 5, 4]), torch.Size([6, 4, 2]))"
            ]
          },
          "metadata": {
            "tags": []
          },
          "execution_count": 33
        }
      ]
    },
    {
      "cell_type": "code",
      "metadata": {
        "colab": {
          "base_uri": "https://localhost:8080/"
        },
        "id": "-0ScR9Ac-GY4",
        "outputId": "b22eddee-a8c9-462e-e4e7-14b72e9acabf"
      },
      "source": [
        "out.view(4,5,2,2)"
      ],
      "execution_count": 35,
      "outputs": [
        {
          "output_type": "execute_result",
          "data": {
            "text/plain": [
              "tensor([[[[-0.6278,  0.2257],\n",
              "          [ 0.4152, -0.0722]],\n",
              "\n",
              "         [[-0.6262,  0.5865],\n",
              "          [ 0.6656, -0.3197]],\n",
              "\n",
              "         [[-0.2550,  0.4842],\n",
              "          [ 0.8294, -0.6448]],\n",
              "\n",
              "         [[-0.0473,  0.1998],\n",
              "          [ 0.8914, -0.7458]],\n",
              "\n",
              "         [[-0.0493,  0.0386],\n",
              "          [ 0.8548, -0.8905]]],\n",
              "\n",
              "\n",
              "        [[[-0.5986,  0.4096],\n",
              "          [ 0.8677, -0.7075]],\n",
              "\n",
              "         [[-0.2926,  0.5361],\n",
              "          [ 0.9104, -0.7992]],\n",
              "\n",
              "         [[-0.0572,  0.3248],\n",
              "          [ 0.9174, -0.8166]],\n",
              "\n",
              "         [[-0.0957,  0.1734],\n",
              "          [ 0.9186, -0.7976]],\n",
              "\n",
              "         [[-0.1093,  0.1700],\n",
              "          [ 0.8676, -0.8923]]],\n",
              "\n",
              "\n",
              "        [[[-0.6115,  0.4565],\n",
              "          [ 0.8729, -0.7078]],\n",
              "\n",
              "         [[-0.2789,  0.5625],\n",
              "          [ 0.9119, -0.7980]],\n",
              "\n",
              "         [[-0.0445,  0.3331],\n",
              "          [ 0.9179, -0.8153]],\n",
              "\n",
              "         [[-0.0925,  0.1770],\n",
              "          [ 0.9189, -0.7966]],\n",
              "\n",
              "         [[-0.1101,  0.1778],\n",
              "          [ 0.8681, -0.8917]]],\n",
              "\n",
              "\n",
              "        [[[-0.6123,  0.4594],\n",
              "          [ 0.8731, -0.7075]],\n",
              "\n",
              "         [[-0.2781,  0.5642],\n",
              "          [ 0.9120, -0.7978]],\n",
              "\n",
              "         [[-0.0437,  0.3337],\n",
              "          [ 0.9179, -0.8152]],\n",
              "\n",
              "         [[-0.0923,  0.1772],\n",
              "          [ 0.9189, -0.7965]],\n",
              "\n",
              "         [[-0.1102,  0.1783],\n",
              "          [ 0.8681, -0.8916]]]], grad_fn=<ViewBackward>)"
            ]
          },
          "metadata": {
            "tags": []
          },
          "execution_count": 35
        }
      ]
    },
    {
      "cell_type": "code",
      "metadata": {
        "id": "Wn6710uOglOK"
      },
      "source": [
        ""
      ],
      "execution_count": null,
      "outputs": []
    }
  ]
}