{
  "nbformat": 4,
  "nbformat_minor": 0,
  "metadata": {
    "colab": {
      "name": "Pytorch Neural Network.ipynb",
      "provenance": [],
      "collapsed_sections": [],
      "authorship_tag": "ABX9TyMPUztFiBco45kaRVFJW+Tm",
      "include_colab_link": true
    },
    "kernelspec": {
      "name": "python3",
      "display_name": "Python 3"
    },
    "accelerator": "GPU"
  },
  "cells": [
    {
      "cell_type": "markdown",
      "metadata": {
        "id": "view-in-github",
        "colab_type": "text"
      },
      "source": [
        "<a href=\"https://colab.research.google.com/github/animesharma3/Pytorch-Code-Snippets/blob/main/Pytorch_Neural_Network.ipynb\" target=\"_parent\"><img src=\"https://colab.research.google.com/assets/colab-badge.svg\" alt=\"Open In Colab\"/></a>"
      ]
    },
    {
      "cell_type": "markdown",
      "metadata": {
        "id": "v-C_7OCPZZtT"
      },
      "source": [
        "* Imports\r\n",
        "* Create Fully Connected Layer\r\n",
        "* Set device\r\n",
        "* Hyperparameters\r\n",
        "* Load Data\r\n",
        "* Initialize Network\r\n",
        "* Loss and Optimizer\r\n",
        "* Train Network\r\n",
        "* Check Accuracy on training and test to see how good our model is"
      ]
    },
    {
      "cell_type": "markdown",
      "metadata": {
        "id": "auozAyYiY78F"
      },
      "source": [
        "# Imports"
      ]
    },
    {
      "cell_type": "code",
      "metadata": {
        "id": "9t4ZE5pbYrWM"
      },
      "source": [
        "import torch\r\n",
        "import torch.nn as nn\r\n",
        "import torch.optim as optim # Optimizers\r\n",
        "import torch.nn.functional as F # Activation functions - ReLu etc\r\n",
        "from torch.utils.data import DataLoader # easier dataset mgmt -> creates mini batches to train on\r\n",
        "import torchvision.datasets as datasets\r\n",
        "import torchvision.transforms as transforms # transformations to perform on datasets"
      ],
      "execution_count": 2,
      "outputs": []
    },
    {
      "cell_type": "markdown",
      "metadata": {
        "id": "4cRU4XtTbG4E"
      },
      "source": [
        "# Create Fully Connected Network"
      ]
    },
    {
      "cell_type": "code",
      "metadata": {
        "id": "jz4TwutIaVsX"
      },
      "source": [
        "class NN(nn.Module):\r\n",
        "    def __init__(self, input_size, num_classes): # MNIST - (28, 28) -> 728\r\n",
        "        super(NN, self).__init__() # super(type, obj)\r\n",
        "        # The super() function is used to give access to methods and properties of a parent or sibling class.\r\n",
        "        # The super() function returns an object that represents the parent class.\r\n",
        "        self.fc1 = nn.Linear(in_features=input_size, out_features=50)\r\n",
        "        self.fc2 = nn.Linear(in_features=50, out_features=num_classes)\r\n",
        "\r\n",
        "    def forward(self, x):\r\n",
        "        x = F.relu(self.fc1(x))\r\n",
        "        x = self.fc2(x)\r\n",
        "        return x"
      ],
      "execution_count": 3,
      "outputs": []
    },
    {
      "cell_type": "code",
      "metadata": {
        "colab": {
          "base_uri": "https://localhost:8080/"
        },
        "id": "yMCuaPLCcP0z",
        "outputId": "68138987-2f81-473e-f973-0ba5b8170478"
      },
      "source": [
        "model = NN(784, 10)\r\n",
        "x = torch.randn(64, 784)\r\n",
        "print(model(x).shape) # Callable object\r\n",
        "print(model.forward(x).shape)"
      ],
      "execution_count": 4,
      "outputs": [
        {
          "output_type": "stream",
          "text": [
            "torch.Size([64, 10])\n",
            "torch.Size([64, 10])\n"
          ],
          "name": "stdout"
        }
      ]
    },
    {
      "cell_type": "code",
      "metadata": {
        "colab": {
          "base_uri": "https://localhost:8080/"
        },
        "id": "Xz939D7ZSPqW",
        "outputId": "b34cdf08-c01d-47fd-a8cb-e61d811d427c"
      },
      "source": [
        "scores = model(x)\r\n",
        "scores.max()"
      ],
      "execution_count": 8,
      "outputs": [
        {
          "output_type": "execute_result",
          "data": {
            "text/plain": [
              "tensor(0.9647, grad_fn=<MaxBackward1>)"
            ]
          },
          "metadata": {
            "tags": []
          },
          "execution_count": 8
        }
      ]
    },
    {
      "cell_type": "code",
      "metadata": {
        "colab": {
          "base_uri": "https://localhost:8080/"
        },
        "id": "UUbYZahk32WE",
        "outputId": "f59cc622-0125-4931-b181-f0747e9d8049"
      },
      "source": [
        "print(x.shape)\r\n",
        "print(model.fc1(x).shape) # Linear(64, 50) <- (64, 784)\r\n",
        "print(model.fc2(model.fc1(x)).shape) # Linear(64, 10) <- (64, 50)"
      ],
      "execution_count": 40,
      "outputs": [
        {
          "output_type": "stream",
          "text": [
            "torch.Size([64, 784])\n",
            "torch.Size([64, 50])\n",
            "torch.Size([64, 10])\n"
          ],
          "name": "stdout"
        }
      ]
    },
    {
      "cell_type": "markdown",
      "metadata": {
        "id": "bxcrMf1ZA8D3"
      },
      "source": [
        "# Set Device"
      ]
    },
    {
      "cell_type": "code",
      "metadata": {
        "id": "-Esi5rRtAGU-"
      },
      "source": [
        "device = torch.device('cuda' if torch.cuda.is_available() else 'cpu')"
      ],
      "execution_count": 41,
      "outputs": []
    },
    {
      "cell_type": "markdown",
      "metadata": {
        "id": "nq3dgH5rBHsf"
      },
      "source": [
        "# Hyperparameters"
      ]
    },
    {
      "cell_type": "code",
      "metadata": {
        "id": "IzPkRQBoBGax"
      },
      "source": [
        "input_size = 784\r\n",
        "num_classes = 10\r\n",
        "learning_rate = 0.001\r\n",
        "batch_size = 64\r\n",
        "num_epochs = 1"
      ],
      "execution_count": 42,
      "outputs": []
    },
    {
      "cell_type": "markdown",
      "metadata": {
        "id": "IzCwf1djBXvH"
      },
      "source": [
        "# Load Data"
      ]
    },
    {
      "cell_type": "code",
      "metadata": {
        "id": "3lgV5kRJBXar"
      },
      "source": [
        "train_dataset = datasets.MNIST(root='dataset/', train=True, transform=transforms.ToTensor(), download=True)\r\n",
        "train_loader = DataLoader(dataset=train_dataset, batch_size=batch_size, shuffle=True)\r\n",
        "\r\n",
        "test_dataset = datasets.MNIST(root='dataset/', train=False, transform=transforms.ToTensor(), download=True)\r\n",
        "test_loader = DataLoader(dataset=test_dataset, batch_size=batch_size, shuffle=True)"
      ],
      "execution_count": 43,
      "outputs": []
    },
    {
      "cell_type": "code",
      "metadata": {
        "colab": {
          "base_uri": "https://localhost:8080/"
        },
        "id": "1fNsDZdbJ1D7",
        "outputId": "1370d9d0-67da-45c6-93d8-8bf4b1017d59"
      },
      "source": [
        "print(train_dataset.train_data[0].shape)"
      ],
      "execution_count": 54,
      "outputs": [
        {
          "output_type": "stream",
          "text": [
            "torch.Size([28, 28])\n"
          ],
          "name": "stdout"
        },
        {
          "output_type": "stream",
          "text": [
            "/usr/local/lib/python3.6/dist-packages/torchvision/datasets/mnist.py:58: UserWarning: train_data has been renamed data\n",
            "  warnings.warn(\"train_data has been renamed data\")\n"
          ],
          "name": "stderr"
        }
      ]
    },
    {
      "cell_type": "markdown",
      "metadata": {
        "id": "CidP2sWfCIM2"
      },
      "source": [
        "# Initialize Network"
      ]
    },
    {
      "cell_type": "code",
      "metadata": {
        "id": "hD4GvdzKCGI7"
      },
      "source": [
        "model = NN(input_size=input_size, num_classes=num_classes).to(device)"
      ],
      "execution_count": 44,
      "outputs": []
    },
    {
      "cell_type": "markdown",
      "metadata": {
        "id": "VItWmtTpCWdv"
      },
      "source": [
        "# Loss and Optimzer"
      ]
    },
    {
      "cell_type": "code",
      "metadata": {
        "id": "AkA3EOP1CVcw"
      },
      "source": [
        "criterion = nn.CrossEntropyLoss()\r\n",
        "optimizer = optim.Adam(model.parameters(), lr=learning_rate)"
      ],
      "execution_count": 45,
      "outputs": []
    },
    {
      "cell_type": "code",
      "metadata": {
        "colab": {
          "base_uri": "https://localhost:8080/"
        },
        "id": "TLk3vz-CCkV5",
        "outputId": "7b2763fd-7ca2-4ca7-d12d-adb14e84245e"
      },
      "source": [
        "for para in model.parameters():\r\n",
        "    print(para.shape)"
      ],
      "execution_count": 46,
      "outputs": [
        {
          "output_type": "stream",
          "text": [
            "torch.Size([50, 784])\n",
            "torch.Size([50])\n",
            "torch.Size([10, 50])\n",
            "torch.Size([10])\n"
          ],
          "name": "stdout"
        }
      ]
    },
    {
      "cell_type": "markdown",
      "metadata": {
        "id": "TiZwhMkrDJ7Z"
      },
      "source": [
        "# Train Network"
      ]
    },
    {
      "cell_type": "code",
      "metadata": {
        "id": "r6YE3ysaCrOa"
      },
      "source": [
        "for epoch in range(num_epochs):\r\n",
        "    for batch_idx, (data, targets) in enumerate(train_loader):\r\n",
        "        ## Get Data to cuda\r\n",
        "        data = data.to(device=device)\r\n",
        "        targets = targets.to(device=device)\r\n",
        "        # print(data.shape) -> torch.Size([64, 1, 28, 28])\r\n",
        "\r\n",
        "        ## Get to correct shape\r\n",
        "        data = data.reshape(data.shape[0], -1) # unravel the data -> [64, 728]\r\n",
        "\r\n",
        "        # Forward\r\n",
        "        scores = model(data)\r\n",
        "        loss = criterion(scores, targets)\r\n",
        "\r\n",
        "        # Backward\r\n",
        "        optimizer.zero_grad()\r\n",
        "        loss.backward()\r\n",
        "\r\n",
        "        # Gradient Descent or Adam step\r\n",
        "        optimizer.step()"
      ],
      "execution_count": 47,
      "outputs": []
    },
    {
      "cell_type": "code",
      "metadata": {
        "colab": {
          "base_uri": "https://localhost:8080/"
        },
        "id": "l1fr-klRDvUa",
        "outputId": "3f58539d-6417-4f7f-fbc6-178efaaac75f"
      },
      "source": [
        "def check_accuracy(loader, model):\r\n",
        "    if loader.dataset.train:\r\n",
        "        print(\"Training Data\")\r\n",
        "    else:\r\n",
        "        print('Testing Data')\r\n",
        "\r\n",
        "    num_correct = 0\r\n",
        "    num_samples = 0\r\n",
        "    model.eval()\r\n",
        "\r\n",
        "    with torch.no_grad():\r\n",
        "        for x, y in loader:\r\n",
        "            x = x.to(device=device)\r\n",
        "            y = y.to(device=device)\r\n",
        "            x = x.reshape(x.shape[0], -1)\r\n",
        "            scores = model(x)\r\n",
        "            _, predictions = scores.max(1)\r\n",
        "            num_correct += (predictions == y).sum()\r\n",
        "            num_samples += predictions.size(0)\r\n",
        "\r\n",
        "        acc = float(num_correct)/float(num_samples) * 100\r\n",
        "        print(acc)\r\n",
        "\r\n",
        "    model.train()\r\n",
        "    return acc\r\n",
        "print(check_accuracy(train_loader, model))\r\n",
        "print(check_accuracy(test_loader, model))"
      ],
      "execution_count": 48,
      "outputs": [
        {
          "output_type": "stream",
          "text": [
            "Training Data\n",
            "93.0\n",
            "93.0\n",
            "Testing Data\n",
            "93.13\n",
            "93.13\n"
          ],
          "name": "stdout"
        }
      ]
    },
    {
      "cell_type": "code",
      "metadata": {
        "id": "NG5ydyYNITB2"
      },
      "source": [
        ""
      ],
      "execution_count": 48,
      "outputs": []
    }
  ]
}