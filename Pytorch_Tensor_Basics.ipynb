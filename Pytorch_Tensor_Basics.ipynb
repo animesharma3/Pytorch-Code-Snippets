{
  "nbformat": 4,
  "nbformat_minor": 0,
  "metadata": {
    "colab": {
      "name": "Pytorch Tensor Basics.ipynb",
      "provenance": [],
      "collapsed_sections": [],
      "authorship_tag": "ABX9TyN7Ak1+PD2fbj7fFeTCkPth",
      "include_colab_link": true
    },
    "kernelspec": {
      "name": "python3",
      "display_name": "Python 3"
    },
    "accelerator": "GPU"
  },
  "cells": [
    {
      "cell_type": "markdown",
      "metadata": {
        "id": "view-in-github",
        "colab_type": "text"
      },
      "source": [
        "<a href=\"https://colab.research.google.com/github/animesharma3/Pytorch-Code-Snippets/blob/main/Pytorch_Tensor_Basics.ipynb\" target=\"_parent\"><img src=\"https://colab.research.google.com/assets/colab-badge.svg\" alt=\"Open In Colab\"/></a>"
      ]
    },
    {
      "cell_type": "code",
      "metadata": {
        "id": "oaVVKreaszbd"
      },
      "source": [
        "import torch\r\n",
        "import numpy as np"
      ],
      "execution_count": 43,
      "outputs": []
    },
    {
      "cell_type": "code",
      "metadata": {
        "colab": {
          "base_uri": "https://localhost:8080/"
        },
        "id": "7_GDc_6btLsV",
        "outputId": "4097da9d-7a8b-4196-90cb-eb2b6734320d"
      },
      "source": [
        "device = 'cuda' if torch.cuda.is_available() else 'cpu'\r\n",
        "# my_tensor = torch.tensor([[1,2,3],[4,5,6]], dtype=torch.float32, device=device)\r\n",
        "my_tensor =  torch.tensor([[1,2,3],[4,5,6]], dtype=torch.float32, device=device, requires_grad=True)\r\n",
        "my_tensor"
      ],
      "execution_count": 8,
      "outputs": [
        {
          "output_type": "execute_result",
          "data": {
            "text/plain": [
              "tensor([[1., 2., 3.],\n",
              "        [4., 5., 6.]], device='cuda:0', requires_grad=True)"
            ]
          },
          "metadata": {
            "tags": []
          },
          "execution_count": 8
        }
      ]
    },
    {
      "cell_type": "code",
      "metadata": {
        "id": "Jns58yB3tPSl",
        "colab": {
          "base_uri": "https://localhost:8080/"
        },
        "outputId": "67feaa86-e47b-4147-c629-49cd73415bfe"
      },
      "source": [
        "my_tensor.dtype"
      ],
      "execution_count": 9,
      "outputs": [
        {
          "output_type": "execute_result",
          "data": {
            "text/plain": [
              "torch.float32"
            ]
          },
          "metadata": {
            "tags": []
          },
          "execution_count": 9
        }
      ]
    },
    {
      "cell_type": "code",
      "metadata": {
        "colab": {
          "base_uri": "https://localhost:8080/"
        },
        "id": "iP64c9BSS6QF",
        "outputId": "a2082953-5a01-4f31-ba54-44fe06b22521"
      },
      "source": [
        "my_tensor.device"
      ],
      "execution_count": 10,
      "outputs": [
        {
          "output_type": "execute_result",
          "data": {
            "text/plain": [
              "device(type='cuda', index=0)"
            ]
          },
          "metadata": {
            "tags": []
          },
          "execution_count": 10
        }
      ]
    },
    {
      "cell_type": "code",
      "metadata": {
        "colab": {
          "base_uri": "https://localhost:8080/"
        },
        "id": "tmOgnnIQS8Gg",
        "outputId": "d7cc14dc-26c6-47d2-f6ec-1b1416273680"
      },
      "source": [
        "my_tensor.shape"
      ],
      "execution_count": 11,
      "outputs": [
        {
          "output_type": "execute_result",
          "data": {
            "text/plain": [
              "torch.Size([2, 3])"
            ]
          },
          "metadata": {
            "tags": []
          },
          "execution_count": 11
        }
      ]
    },
    {
      "cell_type": "code",
      "metadata": {
        "colab": {
          "base_uri": "https://localhost:8080/"
        },
        "id": "6rIpwIVnTG0W",
        "outputId": "8cee0490-becb-4df4-d0c2-abd640acddff"
      },
      "source": [
        "my_tensor.requires_grad"
      ],
      "execution_count": 12,
      "outputs": [
        {
          "output_type": "execute_result",
          "data": {
            "text/plain": [
              "True"
            ]
          },
          "metadata": {
            "tags": []
          },
          "execution_count": 12
        }
      ]
    },
    {
      "cell_type": "markdown",
      "metadata": {
        "id": "JMK91hTyTRgf"
      },
      "source": [
        "### Common Initialization methods"
      ]
    },
    {
      "cell_type": "code",
      "metadata": {
        "colab": {
          "base_uri": "https://localhost:8080/"
        },
        "id": "al2ZqrZUTJe1",
        "outputId": "5384d23f-328a-4751-cbd7-cb557f78af21"
      },
      "source": [
        "x = torch.empty(size=(3, 3)) # random initialization\r\n",
        "x"
      ],
      "execution_count": 14,
      "outputs": [
        {
          "output_type": "execute_result",
          "data": {
            "text/plain": [
              "tensor([[-1.9808e-01,  0.0000e+00,  4.0824e-40],\n",
              "        [ 3.5733e-43,  5.3810e-42,  1.4586e-39],\n",
              "        [-1.7738e+38,  3.5733e-43,  2.1366e-34]])"
            ]
          },
          "metadata": {
            "tags": []
          },
          "execution_count": 14
        }
      ]
    },
    {
      "cell_type": "code",
      "metadata": {
        "colab": {
          "base_uri": "https://localhost:8080/"
        },
        "id": "euzR2UvhTW5b",
        "outputId": "d048c60e-08cb-4090-f291-5750c43dd5f0"
      },
      "source": [
        "x = torch.zeros((3,3))\r\n",
        "x"
      ],
      "execution_count": 15,
      "outputs": [
        {
          "output_type": "execute_result",
          "data": {
            "text/plain": [
              "tensor([[0., 0., 0.],\n",
              "        [0., 0., 0.],\n",
              "        [0., 0., 0.]])"
            ]
          },
          "metadata": {
            "tags": []
          },
          "execution_count": 15
        }
      ]
    },
    {
      "cell_type": "code",
      "metadata": {
        "colab": {
          "base_uri": "https://localhost:8080/"
        },
        "id": "Ni2F1qULTeeJ",
        "outputId": "59b6941d-2506-4d50-e804-302b5f30d62c"
      },
      "source": [
        "x = torch.rand((3,3)) # randomly initialized uniformly distributed values b/w 0 and 1\r\n",
        "x"
      ],
      "execution_count": 17,
      "outputs": [
        {
          "output_type": "execute_result",
          "data": {
            "text/plain": [
              "tensor([[0.5264, 0.9703, 0.2744],\n",
              "        [0.5568, 0.4537, 0.5924],\n",
              "        [0.4800, 0.0462, 0.9903]])"
            ]
          },
          "metadata": {
            "tags": []
          },
          "execution_count": 17
        }
      ]
    },
    {
      "cell_type": "code",
      "metadata": {
        "colab": {
          "base_uri": "https://localhost:8080/"
        },
        "id": "GpNCSfHETyHI",
        "outputId": "501f835a-69d4-42f6-f34a-7e1724dc0ef1"
      },
      "source": [
        "torch.ones((3,3))"
      ],
      "execution_count": 18,
      "outputs": [
        {
          "output_type": "execute_result",
          "data": {
            "text/plain": [
              "tensor([[1., 1., 1.],\n",
              "        [1., 1., 1.],\n",
              "        [1., 1., 1.]])"
            ]
          },
          "metadata": {
            "tags": []
          },
          "execution_count": 18
        }
      ]
    },
    {
      "cell_type": "code",
      "metadata": {
        "colab": {
          "base_uri": "https://localhost:8080/"
        },
        "id": "1P-99YV5T54g",
        "outputId": "1ed9a5c4-5654-4339-962a-e8442c1b0bed"
      },
      "source": [
        "torch.eye(5,5) # I - identity matrix"
      ],
      "execution_count": 19,
      "outputs": [
        {
          "output_type": "execute_result",
          "data": {
            "text/plain": [
              "tensor([[1., 0., 0., 0., 0.],\n",
              "        [0., 1., 0., 0., 0.],\n",
              "        [0., 0., 1., 0., 0.],\n",
              "        [0., 0., 0., 1., 0.],\n",
              "        [0., 0., 0., 0., 1.]])"
            ]
          },
          "metadata": {
            "tags": []
          },
          "execution_count": 19
        }
      ]
    },
    {
      "cell_type": "code",
      "metadata": {
        "colab": {
          "base_uri": "https://localhost:8080/"
        },
        "id": "2kb4PN58T991",
        "outputId": "ee0c6f93-3248-4fbb-b8e0-d0527cde3370"
      },
      "source": [
        "torch.arange(start=0, end=5, step=1) # Similar to range function in python"
      ],
      "execution_count": 21,
      "outputs": [
        {
          "output_type": "execute_result",
          "data": {
            "text/plain": [
              "tensor([0, 1, 2, 3, 4])"
            ]
          },
          "metadata": {
            "tags": []
          },
          "execution_count": 21
        }
      ]
    },
    {
      "cell_type": "code",
      "metadata": {
        "colab": {
          "base_uri": "https://localhost:8080/"
        },
        "id": "pX9QhZvqULIl",
        "outputId": "e5ae750b-6e64-46e6-a587-9a97328defd6"
      },
      "source": [
        "torch.linspace(start=0.1, end=1, steps=10)"
      ],
      "execution_count": 22,
      "outputs": [
        {
          "output_type": "execute_result",
          "data": {
            "text/plain": [
              "tensor([0.1000, 0.2000, 0.3000, 0.4000, 0.5000, 0.6000, 0.7000, 0.8000, 0.9000,\n",
              "        1.0000])"
            ]
          },
          "metadata": {
            "tags": []
          },
          "execution_count": 22
        }
      ]
    },
    {
      "cell_type": "code",
      "metadata": {
        "colab": {
          "base_uri": "https://localhost:8080/"
        },
        "id": "WXcSxKt5Uc5b",
        "outputId": "bffb3b96-e6af-4363-9367-908933cc410e"
      },
      "source": [
        "torch.empty(size=(1,5)).normal_(mean=0, std=1)"
      ],
      "execution_count": 23,
      "outputs": [
        {
          "output_type": "execute_result",
          "data": {
            "text/plain": [
              "tensor([[ 0.1404, -1.0999, -0.2311,  1.4156, -0.6765]])"
            ]
          },
          "metadata": {
            "tags": []
          },
          "execution_count": 23
        }
      ]
    },
    {
      "cell_type": "code",
      "metadata": {
        "colab": {
          "base_uri": "https://localhost:8080/"
        },
        "id": "UrDAkrJhUtc4",
        "outputId": "0211769b-2781-4f4a-c744-f5f4d364e658"
      },
      "source": [
        "torch.empty(size=(1,5)).uniform_(0,1)"
      ],
      "execution_count": 25,
      "outputs": [
        {
          "output_type": "execute_result",
          "data": {
            "text/plain": [
              "tensor([[0.8591, 0.5091, 0.6769, 0.3255, 0.2056]])"
            ]
          },
          "metadata": {
            "tags": []
          },
          "execution_count": 25
        }
      ]
    },
    {
      "cell_type": "code",
      "metadata": {
        "colab": {
          "base_uri": "https://localhost:8080/"
        },
        "id": "Sspo4usYU0Eh",
        "outputId": "c5a04778-daee-4114-9750-e59e8d2029b3"
      },
      "source": [
        "torch.diag(torch.ones(3))"
      ],
      "execution_count": 28,
      "outputs": [
        {
          "output_type": "execute_result",
          "data": {
            "text/plain": [
              "tensor([[1., 0., 0.],\n",
              "        [0., 1., 0.],\n",
              "        [0., 0., 1.]])"
            ]
          },
          "metadata": {
            "tags": []
          },
          "execution_count": 28
        }
      ]
    },
    {
      "cell_type": "markdown",
      "metadata": {
        "id": "wljPQU_cVUJs"
      },
      "source": [
        "### Initialize and convert tensor to other types"
      ]
    },
    {
      "cell_type": "code",
      "metadata": {
        "colab": {
          "base_uri": "https://localhost:8080/"
        },
        "id": "Jx3OoN4IU7Wy",
        "outputId": "de9ab953-604a-4e78-e90b-a6035194d325"
      },
      "source": [
        "tensor = torch.arange(4)\r\n",
        "print(tensor) # int64\r\n",
        "print(tensor.bool())\r\n",
        "print(tensor.short()) # int16\r\n",
        "print(tensor.long()) # int64\r\n",
        "print(tensor.half()) # float16\r\n",
        "print(tensor.float()) # float32\r\n",
        "print(tensor.double()) # float64"
      ],
      "execution_count": 42,
      "outputs": [
        {
          "output_type": "stream",
          "text": [
            "tensor([0, 1, 2, 3])\n",
            "tensor([False,  True,  True,  True])\n",
            "tensor([0, 1, 2, 3], dtype=torch.int16)\n",
            "tensor([0, 1, 2, 3])\n",
            "tensor([0., 1., 2., 3.], dtype=torch.float16)\n",
            "tensor([0., 1., 2., 3.])\n",
            "tensor([0., 1., 2., 3.], dtype=torch.float64)\n"
          ],
          "name": "stdout"
        }
      ]
    },
    {
      "cell_type": "markdown",
      "metadata": {
        "id": "hSuiu0_IWiTe"
      },
      "source": [
        "### Array to Tensor Conversion and Vice-Versa"
      ]
    },
    {
      "cell_type": "code",
      "metadata": {
        "colab": {
          "base_uri": "https://localhost:8080/"
        },
        "id": "RqtuMI4OVMsf",
        "outputId": "53f2626d-4d6a-4a8a-83a2-8b33df0aa687"
      },
      "source": [
        "# Array to Tensor\r\n",
        "np_array = np.zeros((5,5))\r\n",
        "tensor = torch.from_numpy(np_array)\r\n",
        "tensor"
      ],
      "execution_count": 45,
      "outputs": [
        {
          "output_type": "execute_result",
          "data": {
            "text/plain": [
              "tensor([[0., 0., 0., 0., 0.],\n",
              "        [0., 0., 0., 0., 0.],\n",
              "        [0., 0., 0., 0., 0.],\n",
              "        [0., 0., 0., 0., 0.],\n",
              "        [0., 0., 0., 0., 0.]], dtype=torch.float64)"
            ]
          },
          "metadata": {
            "tags": []
          },
          "execution_count": 45
        }
      ]
    },
    {
      "cell_type": "code",
      "metadata": {
        "colab": {
          "base_uri": "https://localhost:8080/"
        },
        "id": "yJ1OVZOhWyZC",
        "outputId": "cf704383-1d7f-49b7-c7b2-8b9795118663"
      },
      "source": [
        "# Tensor to Array\r\n",
        "tensor.numpy()"
      ],
      "execution_count": 47,
      "outputs": [
        {
          "output_type": "execute_result",
          "data": {
            "text/plain": [
              "array([[0., 0., 0., 0., 0.],\n",
              "       [0., 0., 0., 0., 0.],\n",
              "       [0., 0., 0., 0., 0.],\n",
              "       [0., 0., 0., 0., 0.],\n",
              "       [0., 0., 0., 0., 0.]])"
            ]
          },
          "metadata": {
            "tags": []
          },
          "execution_count": 47
        }
      ]
    },
    {
      "cell_type": "markdown",
      "metadata": {
        "id": "tfiduEMDXAks"
      },
      "source": [
        "### Tensor Math and Comparison Operations"
      ]
    },
    {
      "cell_type": "code",
      "metadata": {
        "id": "cyCxGrG5W209"
      },
      "source": [
        "x = torch.tensor([1,2,3])\r\n",
        "y = torch.tensor([9,8,7])"
      ],
      "execution_count": 48,
      "outputs": []
    },
    {
      "cell_type": "code",
      "metadata": {
        "colab": {
          "base_uri": "https://localhost:8080/"
        },
        "id": "ZdJ7NPTPXNFn",
        "outputId": "87acfc43-70cb-4ede-d55f-d93e86e73d1e"
      },
      "source": [
        "# Addition\r\n",
        "z1 = torch.empty(3)\r\n",
        "torch.add(x, y, out=z1)\r\n",
        "print(z1)"
      ],
      "execution_count": 49,
      "outputs": [
        {
          "output_type": "stream",
          "text": [
            "tensor([10., 10., 10.])\n"
          ],
          "name": "stdout"
        }
      ]
    },
    {
      "cell_type": "code",
      "metadata": {
        "colab": {
          "base_uri": "https://localhost:8080/"
        },
        "id": "ED5Iq-zPXXDd",
        "outputId": "de62de75-608a-4e95-9943-1cf8b28658e9"
      },
      "source": [
        "z2 = torch.add(x, y)\r\n",
        "z2"
      ],
      "execution_count": 51,
      "outputs": [
        {
          "output_type": "execute_result",
          "data": {
            "text/plain": [
              "tensor([10, 10, 10])"
            ]
          },
          "metadata": {
            "tags": []
          },
          "execution_count": 51
        }
      ]
    },
    {
      "cell_type": "code",
      "metadata": {
        "colab": {
          "base_uri": "https://localhost:8080/"
        },
        "id": "0DxosVjXXbWC",
        "outputId": "5daa4454-4ddf-44cd-d7a8-3562003bcf84"
      },
      "source": [
        "z = x+y\r\n",
        "z"
      ],
      "execution_count": 53,
      "outputs": [
        {
          "output_type": "execute_result",
          "data": {
            "text/plain": [
              "tensor([10, 10, 10])"
            ]
          },
          "metadata": {
            "tags": []
          },
          "execution_count": 53
        }
      ]
    },
    {
      "cell_type": "code",
      "metadata": {
        "colab": {
          "base_uri": "https://localhost:8080/"
        },
        "id": "GYwC7146XhvO",
        "outputId": "31e542c2-1e00-4697-f45c-61ca730cc0d4"
      },
      "source": [
        "# Substraction\r\n",
        "z = x-y\r\n",
        "z"
      ],
      "execution_count": 54,
      "outputs": [
        {
          "output_type": "execute_result",
          "data": {
            "text/plain": [
              "tensor([-8, -6, -4])"
            ]
          },
          "metadata": {
            "tags": []
          },
          "execution_count": 54
        }
      ]
    },
    {
      "cell_type": "code",
      "metadata": {
        "colab": {
          "base_uri": "https://localhost:8080/"
        },
        "id": "Bl7SEE8lXp9_",
        "outputId": "1f58ab15-bc0e-4cb0-fbe8-152660d5f9af"
      },
      "source": [
        "# Division\r\n",
        "z = torch.true_divide(x, y) # element-wise division for equal shape\r\n",
        "z"
      ],
      "execution_count": 55,
      "outputs": [
        {
          "output_type": "execute_result",
          "data": {
            "text/plain": [
              "tensor([0.1111, 0.2500, 0.4286])"
            ]
          },
          "metadata": {
            "tags": []
          },
          "execution_count": 55
        }
      ]
    },
    {
      "cell_type": "code",
      "metadata": {
        "colab": {
          "base_uri": "https://localhost:8080/"
        },
        "id": "si5AmbBtXzNG",
        "outputId": "c97d0037-3794-4053-f41b-e4c2379c4211"
      },
      "source": [
        "# Inplace Operation\r\n",
        "t = torch.zeros(3)\r\n",
        "t.add_(x) # Method ending with '_' support inplace operation"
      ],
      "execution_count": 57,
      "outputs": [
        {
          "output_type": "execute_result",
          "data": {
            "text/plain": [
              "tensor([1., 2., 3.])"
            ]
          },
          "metadata": {
            "tags": []
          },
          "execution_count": 57
        }
      ]
    },
    {
      "cell_type": "code",
      "metadata": {
        "id": "lnCfmuE-YEyD"
      },
      "source": [
        "t += x"
      ],
      "execution_count": 58,
      "outputs": []
    },
    {
      "cell_type": "code",
      "metadata": {
        "colab": {
          "base_uri": "https://localhost:8080/"
        },
        "id": "-fMUFAwOYMhg",
        "outputId": "d9743e44-d8fd-4269-e5f0-f8a397bf8da5"
      },
      "source": [
        "# Exponentiation\r\n",
        "z = x.pow(2) # element-wise exponentiation\r\n",
        "z"
      ],
      "execution_count": 60,
      "outputs": [
        {
          "output_type": "execute_result",
          "data": {
            "text/plain": [
              "tensor([1, 4, 9])"
            ]
          },
          "metadata": {
            "tags": []
          },
          "execution_count": 60
        }
      ]
    },
    {
      "cell_type": "code",
      "metadata": {
        "id": "r8qMAkEZYY7Z"
      },
      "source": [
        "z = x**2"
      ],
      "execution_count": 61,
      "outputs": []
    },
    {
      "cell_type": "code",
      "metadata": {
        "colab": {
          "base_uri": "https://localhost:8080/"
        },
        "id": "mPKhpazVYg8f",
        "outputId": "42507a9c-d6a4-462f-fd2c-ea4a73630fc6"
      },
      "source": [
        "# Simple comparison\r\n",
        "z = x > 0\r\n",
        "z"
      ],
      "execution_count": 62,
      "outputs": [
        {
          "output_type": "execute_result",
          "data": {
            "text/plain": [
              "tensor([True, True, True])"
            ]
          },
          "metadata": {
            "tags": []
          },
          "execution_count": 62
        }
      ]
    },
    {
      "cell_type": "code",
      "metadata": {
        "colab": {
          "base_uri": "https://localhost:8080/"
        },
        "id": "wVmXisSDYltK",
        "outputId": "2c80774a-8d4d-4cd8-c304-7df3451114fb"
      },
      "source": [
        "z = x < 0\r\n",
        "z"
      ],
      "execution_count": 63,
      "outputs": [
        {
          "output_type": "execute_result",
          "data": {
            "text/plain": [
              "tensor([False, False, False])"
            ]
          },
          "metadata": {
            "tags": []
          },
          "execution_count": 63
        }
      ]
    },
    {
      "cell_type": "code",
      "metadata": {
        "colab": {
          "base_uri": "https://localhost:8080/"
        },
        "id": "Qz69INRYYrVQ",
        "outputId": "d9bf72fc-9d65-4605-8a55-79a5653b3168"
      },
      "source": [
        "# Matrix Multiplication\r\n",
        "x1 = torch.rand((2,5))\r\n",
        "x2 = torch.rand((5, 3))\r\n",
        "x3 = torch.mm(x1, x2) # 2x3\r\n",
        "x3"
      ],
      "execution_count": 64,
      "outputs": [
        {
          "output_type": "execute_result",
          "data": {
            "text/plain": [
              "tensor([[0.6305, 0.9396, 1.2783],\n",
              "        [0.4877, 1.1401, 0.9172]])"
            ]
          },
          "metadata": {
            "tags": []
          },
          "execution_count": 64
        }
      ]
    },
    {
      "cell_type": "code",
      "metadata": {
        "colab": {
          "base_uri": "https://localhost:8080/"
        },
        "id": "1is-49k2Y5er",
        "outputId": "0aed3eae-24a8-441b-b318-92410d84d065"
      },
      "source": [
        "x1.mm(x2)"
      ],
      "execution_count": 65,
      "outputs": [
        {
          "output_type": "execute_result",
          "data": {
            "text/plain": [
              "tensor([[0.6305, 0.9396, 1.2783],\n",
              "        [0.4877, 1.1401, 0.9172]])"
            ]
          },
          "metadata": {
            "tags": []
          },
          "execution_count": 65
        }
      ]
    },
    {
      "cell_type": "code",
      "metadata": {
        "colab": {
          "base_uri": "https://localhost:8080/"
        },
        "id": "r3G8jOWJZDQf",
        "outputId": "3ecdaffc-a016-4254-b67e-a2ac480135d0"
      },
      "source": [
        "# Matric Exponentiation\r\n",
        "matrix_exp = torch.rand(5,5)\r\n",
        "matrix_exp.matrix_power(3)"
      ],
      "execution_count": 66,
      "outputs": [
        {
          "output_type": "execute_result",
          "data": {
            "text/plain": [
              "tensor([[5.0628, 4.7212, 2.4995, 5.7880, 4.6596],\n",
              "        [6.0254, 5.4556, 2.9711, 6.6295, 5.3886],\n",
              "        [4.2168, 3.7466, 2.2524, 4.6971, 4.0156],\n",
              "        [4.0536, 3.5661, 1.7327, 4.5471, 3.4343],\n",
              "        [5.7795, 5.5333, 2.8354, 6.3830, 5.4273]])"
            ]
          },
          "metadata": {
            "tags": []
          },
          "execution_count": 66
        }
      ]
    },
    {
      "cell_type": "code",
      "metadata": {
        "colab": {
          "base_uri": "https://localhost:8080/"
        },
        "id": "VXQ0UF77ZUZ0",
        "outputId": "bea2ee10-215b-4897-9902-e50ea2240b80"
      },
      "source": [
        "# Element wise multiplication\r\n",
        "z = x * y\r\n",
        "z"
      ],
      "execution_count": 67,
      "outputs": [
        {
          "output_type": "execute_result",
          "data": {
            "text/plain": [
              "tensor([ 9, 16, 21])"
            ]
          },
          "metadata": {
            "tags": []
          },
          "execution_count": 67
        }
      ]
    },
    {
      "cell_type": "code",
      "metadata": {
        "colab": {
          "base_uri": "https://localhost:8080/"
        },
        "id": "Z9m20bOgZhUS",
        "outputId": "72833f7b-0097-40db-e959-f03f06995193"
      },
      "source": [
        "# dot product\r\n",
        "z = torch.dot(x, y)\r\n",
        "z"
      ],
      "execution_count": 68,
      "outputs": [
        {
          "output_type": "execute_result",
          "data": {
            "text/plain": [
              "tensor(46)"
            ]
          },
          "metadata": {
            "tags": []
          },
          "execution_count": 68
        }
      ]
    },
    {
      "cell_type": "code",
      "metadata": {
        "colab": {
          "base_uri": "https://localhost:8080/"
        },
        "id": "erCQL46MZqG0",
        "outputId": "4095af47-b0ea-4766-9708-795229e03a37"
      },
      "source": [
        "# Batch Matrix Multiplication\r\n",
        "batch = 32\r\n",
        "n = 10\r\n",
        "m = 20\r\n",
        "p = 30\r\n",
        "tensor1 = torch.rand((batch, n, m)) # For 2-dim matrix we don't need batch multiplication\r\n",
        "tensor2 = torch.rand((batch, m, p))\r\n",
        "tensor1.shape"
      ],
      "execution_count": 71,
      "outputs": [
        {
          "output_type": "execute_result",
          "data": {
            "text/plain": [
              "torch.Size([32, 10, 20])"
            ]
          },
          "metadata": {
            "tags": []
          },
          "execution_count": 71
        }
      ]
    },
    {
      "cell_type": "code",
      "metadata": {
        "colab": {
          "base_uri": "https://localhost:8080/"
        },
        "id": "H9WQKqi-Z6Fn",
        "outputId": "b3e726ab-b021-4e65-a2a7-685eb602e60c"
      },
      "source": [
        "out_bmm = torch.bmm(tensor1, tensor2) # (batch, n, p)\r\n",
        "out_bmm.shape"
      ],
      "execution_count": 72,
      "outputs": [
        {
          "output_type": "execute_result",
          "data": {
            "text/plain": [
              "torch.Size([32, 10, 30])"
            ]
          },
          "metadata": {
            "tags": []
          },
          "execution_count": 72
        }
      ]
    },
    {
      "cell_type": "code",
      "metadata": {
        "colab": {
          "base_uri": "https://localhost:8080/"
        },
        "id": "sIYf4cQxaf3D",
        "outputId": "c18b59bd-5ce7-4f0b-c3e3-850b8149bcca"
      },
      "source": [
        "# Examples of Broadcasting\r\n",
        "x1 = torch.rand((5,5))\r\n",
        "x2 = torch.rand((1,5))\r\n",
        "# x2 vector would be substracted from each row of x1 - Broadcasting\r\n",
        "z = x1-x2\r\n",
        "z"
      ],
      "execution_count": 74,
      "outputs": [
        {
          "output_type": "execute_result",
          "data": {
            "text/plain": [
              "tensor([[ 0.1018, -0.0492,  0.3831,  0.1678, -0.9249],\n",
              "        [-0.4578, -0.7663,  0.5015, -0.3625, -0.5748],\n",
              "        [-0.4873, -0.6242,  0.2896, -0.5054, -0.1817],\n",
              "        [-0.5831, -0.3097,  0.6811,  0.3025, -0.0577],\n",
              "        [-0.3783, -0.4016,  0.0087, -0.2952, -0.0689]])"
            ]
          },
          "metadata": {
            "tags": []
          },
          "execution_count": 74
        }
      ]
    },
    {
      "cell_type": "markdown",
      "metadata": {
        "id": "e6rHVoycbeRp"
      },
      "source": [
        "### Other useful tensor operations"
      ]
    },
    {
      "cell_type": "code",
      "metadata": {
        "colab": {
          "base_uri": "https://localhost:8080/"
        },
        "id": "F1CBI1BDaqpl",
        "outputId": "b6f20de1-99f5-4095-e749-2ed4a24d7905"
      },
      "source": [
        "print(x)\r\n",
        "sum_x = torch.sum(x, dim=0)\r\n",
        "sum_x"
      ],
      "execution_count": 75,
      "outputs": [
        {
          "output_type": "stream",
          "text": [
            "tensor([1, 2, 3])\n"
          ],
          "name": "stdout"
        },
        {
          "output_type": "execute_result",
          "data": {
            "text/plain": [
              "tensor(6)"
            ]
          },
          "metadata": {
            "tags": []
          },
          "execution_count": 75
        }
      ]
    },
    {
      "cell_type": "code",
      "metadata": {
        "colab": {
          "base_uri": "https://localhost:8080/"
        },
        "id": "yTEdhs_Absi2",
        "outputId": "0bef7375-093e-4849-a215-95643f0190a2"
      },
      "source": [
        "values, indices = torch.max(x, dim=0)\r\n",
        "print(values, indices)"
      ],
      "execution_count": 77,
      "outputs": [
        {
          "output_type": "stream",
          "text": [
            "tensor(3) tensor(2)\n"
          ],
          "name": "stdout"
        }
      ]
    },
    {
      "cell_type": "code",
      "metadata": {
        "colab": {
          "base_uri": "https://localhost:8080/"
        },
        "id": "k6pY5HnWbzX5",
        "outputId": "cac7e357-c2ea-48c9-a852-6c986c0d8680"
      },
      "source": [
        "values, indices = torch.min(x, dim=0)\r\n",
        "print(values, indices)"
      ],
      "execution_count": 78,
      "outputs": [
        {
          "output_type": "stream",
          "text": [
            "tensor(1) tensor(0)\n"
          ],
          "name": "stdout"
        }
      ]
    },
    {
      "cell_type": "code",
      "metadata": {
        "colab": {
          "base_uri": "https://localhost:8080/"
        },
        "id": "HJwIVZUtb7yi",
        "outputId": "f5472797-e532-444e-d46c-16f7f9808cc0"
      },
      "source": [
        "abs_x = torch.abs(x)\r\n",
        "abs_x"
      ],
      "execution_count": 80,
      "outputs": [
        {
          "output_type": "execute_result",
          "data": {
            "text/plain": [
              "tensor([1, 2, 3])"
            ]
          },
          "metadata": {
            "tags": []
          },
          "execution_count": 80
        }
      ]
    },
    {
      "cell_type": "code",
      "metadata": {
        "colab": {
          "base_uri": "https://localhost:8080/"
        },
        "id": "lslZCu3pcAM0",
        "outputId": "0047e086-c27a-4605-b2af-043b2f1bc0e7"
      },
      "source": [
        "z = torch.argmax(x, dim=0) # index of the max num\r\n",
        "z"
      ],
      "execution_count": 82,
      "outputs": [
        {
          "output_type": "execute_result",
          "data": {
            "text/plain": [
              "tensor(2)"
            ]
          },
          "metadata": {
            "tags": []
          },
          "execution_count": 82
        }
      ]
    },
    {
      "cell_type": "code",
      "metadata": {
        "colab": {
          "base_uri": "https://localhost:8080/"
        },
        "id": "vRTSG2JBj9Rt",
        "outputId": "c7e31049-f865-4ddf-eb25-2db3b5eae7e8"
      },
      "source": [
        "z = torch.argmin(x, dim=0) # index of the min num\r\n",
        "z"
      ],
      "execution_count": 83,
      "outputs": [
        {
          "output_type": "execute_result",
          "data": {
            "text/plain": [
              "tensor(0)"
            ]
          },
          "metadata": {
            "tags": []
          },
          "execution_count": 83
        }
      ]
    },
    {
      "cell_type": "code",
      "metadata": {
        "colab": {
          "base_uri": "https://localhost:8080/"
        },
        "id": "1Idgqh-TkCah",
        "outputId": "fb29bbf1-b723-4719-c659-30306450972f"
      },
      "source": [
        "mean_x = torch.mean(x.float(), dim=0)\r\n",
        "mean_x"
      ],
      "execution_count": 84,
      "outputs": [
        {
          "output_type": "execute_result",
          "data": {
            "text/plain": [
              "tensor(2.)"
            ]
          },
          "metadata": {
            "tags": []
          },
          "execution_count": 84
        }
      ]
    },
    {
      "cell_type": "code",
      "metadata": {
        "colab": {
          "base_uri": "https://localhost:8080/"
        },
        "id": "KLT-XB9GkWvI",
        "outputId": "0e6ce018-e5e0-4890-b066-6926cf089bbf"
      },
      "source": [
        "torch.eq(x, y)"
      ],
      "execution_count": 85,
      "outputs": [
        {
          "output_type": "execute_result",
          "data": {
            "text/plain": [
              "tensor([False, False, False])"
            ]
          },
          "metadata": {
            "tags": []
          },
          "execution_count": 85
        }
      ]
    },
    {
      "cell_type": "code",
      "metadata": {
        "colab": {
          "base_uri": "https://localhost:8080/"
        },
        "id": "bM5609Q-keG-",
        "outputId": "73a11a58-1e5f-4045-b196-5d82106c1de0"
      },
      "source": [
        "torch.sort(y, dim=0, descending=False)"
      ],
      "execution_count": 86,
      "outputs": [
        {
          "output_type": "execute_result",
          "data": {
            "text/plain": [
              "torch.return_types.sort(values=tensor([7, 8, 9]), indices=tensor([2, 1, 0]))"
            ]
          },
          "metadata": {
            "tags": []
          },
          "execution_count": 86
        }
      ]
    },
    {
      "cell_type": "code",
      "metadata": {
        "colab": {
          "base_uri": "https://localhost:8080/"
        },
        "id": "fisxHFmckl25",
        "outputId": "8ecb2ddd-8253-4d88-ab3f-4dc4b9bb8ee6"
      },
      "source": [
        "z = torch.clamp(x, min=0)\r\n",
        "z"
      ],
      "execution_count": 90,
      "outputs": [
        {
          "output_type": "execute_result",
          "data": {
            "text/plain": [
              "tensor([1, 2, 3])"
            ]
          },
          "metadata": {
            "tags": []
          },
          "execution_count": 90
        }
      ]
    },
    {
      "cell_type": "code",
      "metadata": {
        "colab": {
          "base_uri": "https://localhost:8080/"
        },
        "id": "9CuNuEyplBNo",
        "outputId": "236bd3a2-1458-4155-e5e8-b77115084480"
      },
      "source": [
        "x = torch.tensor([1,0,1,1,1], dtype=torch.bool)\r\n",
        "z = torch.any(x) \r\n",
        "z"
      ],
      "execution_count": 91,
      "outputs": [
        {
          "output_type": "execute_result",
          "data": {
            "text/plain": [
              "tensor(True)"
            ]
          },
          "metadata": {
            "tags": []
          },
          "execution_count": 91
        }
      ]
    },
    {
      "cell_type": "code",
      "metadata": {
        "colab": {
          "base_uri": "https://localhost:8080/"
        },
        "id": "-0Zo7qv1lVJy",
        "outputId": "5da80cc7-a354-46ad-a5d3-330704bec551"
      },
      "source": [
        "torch.all(x)"
      ],
      "execution_count": 92,
      "outputs": [
        {
          "output_type": "execute_result",
          "data": {
            "text/plain": [
              "tensor(False)"
            ]
          },
          "metadata": {
            "tags": []
          },
          "execution_count": 92
        }
      ]
    },
    {
      "cell_type": "markdown",
      "metadata": {
        "id": "FCUiRjX7lq_U"
      },
      "source": [
        "### Tensor Indexing"
      ]
    },
    {
      "cell_type": "code",
      "metadata": {
        "colab": {
          "base_uri": "https://localhost:8080/"
        },
        "id": "Mu0kiJGuldwE",
        "outputId": "6d7a7d32-2b92-459e-96a7-5411f955c8f4"
      },
      "source": [
        "batch_size = 10\r\n",
        "features = 25\r\n",
        "x = torch.rand((batch_size, features))\r\n",
        "print(x[0].shape)"
      ],
      "execution_count": 93,
      "outputs": [
        {
          "output_type": "stream",
          "text": [
            "torch.Size([25])\n"
          ],
          "name": "stdout"
        }
      ]
    },
    {
      "cell_type": "code",
      "metadata": {
        "colab": {
          "base_uri": "https://localhost:8080/"
        },
        "id": "Vtoxe-GQl_ON",
        "outputId": "7e4c0020-801f-4842-ce3b-a49b420bd70b"
      },
      "source": [
        "print(x[:,0].shape) "
      ],
      "execution_count": 94,
      "outputs": [
        {
          "output_type": "stream",
          "text": [
            "torch.Size([10])\n"
          ],
          "name": "stdout"
        }
      ]
    },
    {
      "cell_type": "code",
      "metadata": {
        "colab": {
          "base_uri": "https://localhost:8080/"
        },
        "id": "v60vel7xmGBZ",
        "outputId": "ec12b650-5ade-4ab1-cc53-445a928f3173"
      },
      "source": [
        "print(x[2])\r\n",
        "print(x[2, 0:10])"
      ],
      "execution_count": 96,
      "outputs": [
        {
          "output_type": "stream",
          "text": [
            "tensor([0.7093, 0.9545, 0.1232, 0.7449, 0.5935, 0.8971, 0.9360, 0.9675, 0.8942,\n",
            "        0.8343, 0.2751, 0.7031, 0.1646, 0.1502, 0.5083, 0.9165, 0.5230, 0.1849,\n",
            "        0.8711, 0.4265, 0.8372, 0.0672, 0.1810, 0.2234, 0.5227])\n",
            "tensor([0.7093, 0.9545, 0.1232, 0.7449, 0.5935, 0.8971, 0.9360, 0.9675, 0.8942,\n",
            "        0.8343])\n"
          ],
          "name": "stdout"
        }
      ]
    },
    {
      "cell_type": "code",
      "metadata": {
        "colab": {
          "base_uri": "https://localhost:8080/"
        },
        "id": "_tMaqrFsmPYm",
        "outputId": "c5ae7432-ddd1-49f1-e621-be167af373ec"
      },
      "source": [
        "x = torch.arange(10)\r\n",
        "indices = [2,5,8]\r\n",
        "x[indices]"
      ],
      "execution_count": 97,
      "outputs": [
        {
          "output_type": "execute_result",
          "data": {
            "text/plain": [
              "tensor([2, 5, 8])"
            ]
          },
          "metadata": {
            "tags": []
          },
          "execution_count": 97
        }
      ]
    },
    {
      "cell_type": "code",
      "metadata": {
        "colab": {
          "base_uri": "https://localhost:8080/"
        },
        "id": "cbP2EYfAmeav",
        "outputId": "d7e292b7-f8d4-4280-98a9-2ff1e05dd05a"
      },
      "source": [
        "x = torch.rand((3, 5))\r\n",
        "print(x)\r\n",
        "rows = torch.tensor([1, 0])\r\n",
        "cols = torch.tensor([4, 0])\r\n",
        "print(x[rows, cols])"
      ],
      "execution_count": 99,
      "outputs": [
        {
          "output_type": "stream",
          "text": [
            "tensor([[0.9115, 0.8759, 0.3837, 0.1053, 0.2155],\n",
            "        [0.7223, 0.9250, 0.2345, 0.3211, 0.4278],\n",
            "        [0.0347, 0.8478, 0.4562, 0.1718, 0.1448]])\n",
            "tensor([0.4278, 0.9115])\n"
          ],
          "name": "stdout"
        }
      ]
    },
    {
      "cell_type": "code",
      "metadata": {
        "colab": {
          "base_uri": "https://localhost:8080/"
        },
        "id": "kFGncHO6m_pS",
        "outputId": "b7f1bab0-6302-45ff-f7de-3040199a75b2"
      },
      "source": [
        "# More advanced Indexing\r\n",
        "x = torch.arange(10)\r\n",
        "print(x)\r\n",
        "print(x[(x<2) | (x>8)])\r\n",
        "print(x[(x<2) & (x>8)])\r\n",
        "print(x[x.remainder(2) == 0])"
      ],
      "execution_count": 104,
      "outputs": [
        {
          "output_type": "stream",
          "text": [
            "tensor([0, 1, 2, 3, 4, 5, 6, 7, 8, 9])\n",
            "tensor([0, 1, 9])\n",
            "tensor([], dtype=torch.int64)\n",
            "tensor([0, 2, 4, 6, 8])\n"
          ],
          "name": "stdout"
        }
      ]
    },
    {
      "cell_type": "code",
      "metadata": {
        "colab": {
          "base_uri": "https://localhost:8080/"
        },
        "id": "3SpglywhpNfF",
        "outputId": "407af266-500a-4eab-fea7-837027c202a0"
      },
      "source": [
        "torch.where(x>5, x, x*2)"
      ],
      "execution_count": 106,
      "outputs": [
        {
          "output_type": "execute_result",
          "data": {
            "text/plain": [
              "tensor([ 0,  2,  4,  6,  8, 10,  6,  7,  8,  9])"
            ]
          },
          "metadata": {
            "tags": []
          },
          "execution_count": 106
        }
      ]
    },
    {
      "cell_type": "code",
      "metadata": {
        "colab": {
          "base_uri": "https://localhost:8080/"
        },
        "id": "WIUYD_XgpqiJ",
        "outputId": "c385cf3b-8316-4070-f535-a43c9120277e"
      },
      "source": [
        "torch.tensor([0,0,1,2,2,1,2]).unique()"
      ],
      "execution_count": 107,
      "outputs": [
        {
          "output_type": "execute_result",
          "data": {
            "text/plain": [
              "tensor([0, 1, 2])"
            ]
          },
          "metadata": {
            "tags": []
          },
          "execution_count": 107
        }
      ]
    },
    {
      "cell_type": "code",
      "metadata": {
        "colab": {
          "base_uri": "https://localhost:8080/"
        },
        "id": "Oe8TckL3r92P",
        "outputId": "d66fedef-172f-48b7-f5c8-544819c66943"
      },
      "source": [
        "x.ndimension()"
      ],
      "execution_count": 108,
      "outputs": [
        {
          "output_type": "execute_result",
          "data": {
            "text/plain": [
              "1"
            ]
          },
          "metadata": {
            "tags": []
          },
          "execution_count": 108
        }
      ]
    },
    {
      "cell_type": "code",
      "metadata": {
        "colab": {
          "base_uri": "https://localhost:8080/"
        },
        "id": "SdPw_yRnsAb6",
        "outputId": "c9b46d6c-949f-4e5e-f01c-13defbaebeac"
      },
      "source": [
        "x.numel()"
      ],
      "execution_count": 109,
      "outputs": [
        {
          "output_type": "execute_result",
          "data": {
            "text/plain": [
              "10"
            ]
          },
          "metadata": {
            "tags": []
          },
          "execution_count": 109
        }
      ]
    },
    {
      "cell_type": "markdown",
      "metadata": {
        "id": "0WOv1gLqsNl4"
      },
      "source": [
        "### Tensor Reshaping"
      ]
    },
    {
      "cell_type": "code",
      "metadata": {
        "colab": {
          "base_uri": "https://localhost:8080/"
        },
        "id": "HBui7UygsHpV",
        "outputId": "2cd177f4-16ad-4e89-e85e-d4018fec5065"
      },
      "source": [
        "x = torch.arange(9)\r\n",
        "print(x)\r\n",
        "x_3x3 = x.view(3,3)\r\n",
        "x_3x3"
      ],
      "execution_count": 111,
      "outputs": [
        {
          "output_type": "stream",
          "text": [
            "tensor([0, 1, 2, 3, 4, 5, 6, 7, 8])\n"
          ],
          "name": "stdout"
        },
        {
          "output_type": "execute_result",
          "data": {
            "text/plain": [
              "tensor([[0, 1, 2],\n",
              "        [3, 4, 5],\n",
              "        [6, 7, 8]])"
            ]
          },
          "metadata": {
            "tags": []
          },
          "execution_count": 111
        }
      ]
    },
    {
      "cell_type": "code",
      "metadata": {
        "colab": {
          "base_uri": "https://localhost:8080/"
        },
        "id": "7py2qF3zyjB3",
        "outputId": "fc998899-8a6a-4843-d818-43a84fd02748"
      },
      "source": [
        "x.reshape(3,3)"
      ],
      "execution_count": 112,
      "outputs": [
        {
          "output_type": "execute_result",
          "data": {
            "text/plain": [
              "tensor([[0, 1, 2],\n",
              "        [3, 4, 5],\n",
              "        [6, 7, 8]])"
            ]
          },
          "metadata": {
            "tags": []
          },
          "execution_count": 112
        }
      ]
    },
    {
      "cell_type": "code",
      "metadata": {
        "colab": {
          "base_uri": "https://localhost:8080/"
        },
        "id": "AFM8M72fy2Lf",
        "outputId": "8ca711b9-123d-4904-df64-cbc6d5bd0679"
      },
      "source": [
        "y = x_3x3.t() # transpose\r\n",
        "\r\n",
        "y"
      ],
      "execution_count": 113,
      "outputs": [
        {
          "output_type": "execute_result",
          "data": {
            "text/plain": [
              "tensor([[0, 3, 6],\n",
              "        [1, 4, 7],\n",
              "        [2, 5, 8]])"
            ]
          },
          "metadata": {
            "tags": []
          },
          "execution_count": 113
        }
      ]
    },
    {
      "cell_type": "code",
      "metadata": {
        "colab": {
          "base_uri": "https://localhost:8080/"
        },
        "id": "4XNqqygbzEoE",
        "outputId": "64e62658-b11b-40f1-c07f-1c96e7228959"
      },
      "source": [
        "# y.view(9) -> error\r\n",
        "y.contiguous().view(9)"
      ],
      "execution_count": 117,
      "outputs": [
        {
          "output_type": "execute_result",
          "data": {
            "text/plain": [
              "tensor([0, 3, 6, 1, 4, 7, 2, 5, 8])"
            ]
          },
          "metadata": {
            "tags": []
          },
          "execution_count": 117
        }
      ]
    },
    {
      "cell_type": "code",
      "metadata": {
        "colab": {
          "base_uri": "https://localhost:8080/"
        },
        "id": "caZKG2tXzazg",
        "outputId": "593d80f3-a9a3-442e-dfb4-724eaf56beb2"
      },
      "source": [
        "x1 = torch.rand((2,5))\r\n",
        "x2 = torch.rand((2,5))\r\n",
        "print(torch.cat((x1, x2)))\r\n",
        "print(torch.cat((x1, x2), dim=0))\r\n",
        "print(torch.cat((x1, x2), dim=1))"
      ],
      "execution_count": 122,
      "outputs": [
        {
          "output_type": "stream",
          "text": [
            "tensor([[0.1810, 0.4565, 0.1024, 0.8986, 0.5079],\n",
            "        [0.4806, 0.9415, 0.5616, 0.3182, 0.0272],\n",
            "        [0.0529, 0.7298, 0.4502, 0.5088, 0.6198],\n",
            "        [0.8539, 0.8132, 0.1898, 0.9330, 0.8443]])\n",
            "tensor([[0.1810, 0.4565, 0.1024, 0.8986, 0.5079],\n",
            "        [0.4806, 0.9415, 0.5616, 0.3182, 0.0272],\n",
            "        [0.0529, 0.7298, 0.4502, 0.5088, 0.6198],\n",
            "        [0.8539, 0.8132, 0.1898, 0.9330, 0.8443]])\n",
            "tensor([[0.1810, 0.4565, 0.1024, 0.8986, 0.5079, 0.0529, 0.7298, 0.4502, 0.5088,\n",
            "         0.6198],\n",
            "        [0.4806, 0.9415, 0.5616, 0.3182, 0.0272, 0.8539, 0.8132, 0.1898, 0.9330,\n",
            "         0.8443]])\n"
          ],
          "name": "stdout"
        }
      ]
    },
    {
      "cell_type": "code",
      "metadata": {
        "colab": {
          "base_uri": "https://localhost:8080/"
        },
        "id": "r3IAFM72z3PJ",
        "outputId": "3ffea90c-0b19-491a-de41-900422988f0a"
      },
      "source": [
        "z = x1.view(-1) # flatten the tensor\r\n",
        "z"
      ],
      "execution_count": 123,
      "outputs": [
        {
          "output_type": "execute_result",
          "data": {
            "text/plain": [
              "tensor([0.1810, 0.4565, 0.1024, 0.8986, 0.5079, 0.4806, 0.9415, 0.5616, 0.3182,\n",
              "        0.0272])"
            ]
          },
          "metadata": {
            "tags": []
          },
          "execution_count": 123
        }
      ]
    },
    {
      "cell_type": "code",
      "metadata": {
        "colab": {
          "base_uri": "https://localhost:8080/"
        },
        "id": "hbsYKttD0b14",
        "outputId": "4d768e33-56cd-49e7-a2fc-83a0715c0104"
      },
      "source": [
        "batch = 64\r\n",
        "x = torch.rand((batch, 2, 5))\r\n",
        "z = x.view(batch, -1)\r\n",
        "z.shape"
      ],
      "execution_count": 125,
      "outputs": [
        {
          "output_type": "execute_result",
          "data": {
            "text/plain": [
              "torch.Size([64, 10])"
            ]
          },
          "metadata": {
            "tags": []
          },
          "execution_count": 125
        }
      ]
    },
    {
      "cell_type": "code",
      "metadata": {
        "colab": {
          "base_uri": "https://localhost:8080/"
        },
        "id": "ctNZSKi70s0P",
        "outputId": "5ad98ab6-ddbb-4739-8a65-87f810b95518"
      },
      "source": [
        "z = x.permute(0,2,1)\r\n",
        "z.shape"
      ],
      "execution_count": 126,
      "outputs": [
        {
          "output_type": "execute_result",
          "data": {
            "text/plain": [
              "torch.Size([64, 5, 2])"
            ]
          },
          "metadata": {
            "tags": []
          },
          "execution_count": 126
        }
      ]
    },
    {
      "cell_type": "code",
      "metadata": {
        "colab": {
          "base_uri": "https://localhost:8080/"
        },
        "id": "micPmQQ91DIG",
        "outputId": "32b63152-ce37-46c0-f1dc-a5cf91e0b74e"
      },
      "source": [
        "x = torch.arange(10) #-> [10]\r\n",
        "print(x.unsqueeze(0).shape)\r\n",
        "print(x.unsqueeze(1).shape)"
      ],
      "execution_count": 128,
      "outputs": [
        {
          "output_type": "stream",
          "text": [
            "torch.Size([1, 10])\n",
            "torch.Size([10, 1])\n"
          ],
          "name": "stdout"
        }
      ]
    },
    {
      "cell_type": "code",
      "metadata": {
        "colab": {
          "base_uri": "https://localhost:8080/"
        },
        "id": "CAVm9U-_1YXG",
        "outputId": "f1c7501b-acdd-4f9e-f133-181e27f40c60"
      },
      "source": [
        "print(torch.arange(10))\r\n",
        "print(torch.arange(10).unsqueeze(0))\r\n",
        "print(torch.arange(10).unsqueeze(1))\r\n",
        "print(torch.arange(10).unsqueeze(0).unsqueeze(1))\r\n",
        "print(torch.arange(10).unsqueeze(0).unsqueeze(1).squeeze(1))"
      ],
      "execution_count": 139,
      "outputs": [
        {
          "output_type": "stream",
          "text": [
            "tensor([0, 1, 2, 3, 4, 5, 6, 7, 8, 9])\n",
            "tensor([[0, 1, 2, 3, 4, 5, 6, 7, 8, 9]])\n",
            "tensor([[0],\n",
            "        [1],\n",
            "        [2],\n",
            "        [3],\n",
            "        [4],\n",
            "        [5],\n",
            "        [6],\n",
            "        [7],\n",
            "        [8],\n",
            "        [9]])\n",
            "tensor([[[0, 1, 2, 3, 4, 5, 6, 7, 8, 9]]])\n",
            "tensor([[0, 1, 2, 3, 4, 5, 6, 7, 8, 9]])\n"
          ],
          "name": "stdout"
        }
      ]
    },
    {
      "cell_type": "code",
      "metadata": {
        "id": "pFqB_ACM1nOh"
      },
      "source": [
        ""
      ],
      "execution_count": null,
      "outputs": []
    }
  ]
}